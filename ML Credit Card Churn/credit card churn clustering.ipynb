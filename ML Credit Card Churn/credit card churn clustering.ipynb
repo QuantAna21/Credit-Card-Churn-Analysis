{
 "cells": [
  {
   "cell_type": "markdown",
   "id": "c8c8ebbd",
   "metadata": {},
   "source": [
    "# Credit Card Churn - Clustering"
   ]
  },
  {
   "cell_type": "markdown",
   "id": "d02b5a07",
   "metadata": {},
   "source": [
    "### Data Preparation"
   ]
  },
  {
   "cell_type": "code",
   "execution_count": null,
   "id": "14f0ce16",
   "metadata": {},
   "outputs": [],
   "source": [
    "import os\n",
    "import pandas as pd\n",
    "import numpy as np\n",
    "import warnings\n",
    "warnings.filterwarnings(\"ignore\")\n",
    "import matplotlib.pyplot as plt\n",
    "%matplotlib inline\n",
    "import seaborn as sns"
   ]
  },
  {
   "cell_type": "code",
   "execution_count": null,
   "id": "a60ae232",
   "metadata": {},
   "outputs": [],
   "source": [
    "working_directory = os.getcwd()"
   ]
  },
  {
   "cell_type": "code",
   "execution_count": null,
   "id": "cfe5247c",
   "metadata": {},
   "outputs": [],
   "source": [
    "path = working_directory + '/data/BankChurners.csv'"
   ]
  },
  {
   "cell_type": "code",
   "execution_count": null,
   "id": "7a5f2d6e",
   "metadata": {},
   "outputs": [],
   "source": [
    "bank_churn = pd.read_csv(path)"
   ]
  },
  {
   "cell_type": "code",
   "execution_count": null,
   "id": "18388b09",
   "metadata": {},
   "outputs": [],
   "source": [
    "bank_churn.head()"
   ]
  },
  {
   "cell_type": "code",
   "execution_count": null,
   "id": "dfccd486",
   "metadata": {},
   "outputs": [],
   "source": [
    "bank_churn.columns"
   ]
  },
  {
   "cell_type": "code",
   "execution_count": null,
   "id": "56f943df",
   "metadata": {},
   "outputs": [],
   "source": [
    "#dropping irrelevant columns + columns with categorical variables\n",
    "\n",
    "dropcol = bank_churn.drop(columns=['CLIENTNUM', 'Attrition_Flag', 'Dependent_count', 'Avg_Open_To_Buy',\n",
    "            'Education_Level', 'Marital_Status', 'Income_Category', 'Card_Category', 'Gender', 'Avg_Utilization_Ratio',\n",
    "            'Naive_Bayes_Classifier_Attrition_Flag_Card_Category_Contacts_Count_12_mon_Dependent_count_Education_Level_Months_Inactive_12_mon_1',\n",
    "            'Naive_Bayes_Classifier_Attrition_Flag_Card_Category_Contacts_Count_12_mon_Dependent_count_Education_Level_Months_Inactive_12_mon_2'], axis=1)"
   ]
  },
  {
   "cell_type": "code",
   "execution_count": null,
   "id": "0319c0c8",
   "metadata": {},
   "outputs": [],
   "source": [
    "#standardization\n",
    "\n",
    "from sklearn.preprocessing import StandardScaler\n",
    "scaler = StandardScaler()\n",
    "\n",
    "dropcol1 = dropcol.copy(deep=True)\n",
    "\n",
    "dropcol1[['Customer_Age', 'Months_on_book', 'Total_Relationship_Count', 'Months_Inactive_12_mon',\n",
    "'Contacts_Count_12_mon', 'Credit_Limit', 'Total_Revolving_Bal',\n",
    "'Total_Amt_Chng_Q4_Q1', 'Total_Trans_Amt',\n",
    "'Total_Trans_Ct', 'Total_Ct_Chng_Q4_Q1']] =\\\n",
    "scaler.fit_transform(dropcol1[['Customer_Age', 'Months_on_book', 'Total_Relationship_Count', \n",
    "'Months_Inactive_12_mon', 'Contacts_Count_12_mon', 'Credit_Limit', 'Total_Revolving_Bal',\n",
    "'Total_Amt_Chng_Q4_Q1', 'Total_Trans_Amt',\n",
    "'Total_Trans_Ct', 'Total_Ct_Chng_Q4_Q1']])"
   ]
  },
  {
   "cell_type": "code",
   "execution_count": null,
   "id": "b1556330",
   "metadata": {},
   "outputs": [],
   "source": []
  },
  {
   "cell_type": "markdown",
   "id": "9e811dc5",
   "metadata": {},
   "source": [
    "### K-means clustering "
   ]
  },
  {
   "cell_type": "code",
   "execution_count": null,
   "id": "05fc165d",
   "metadata": {},
   "outputs": [],
   "source": [
    "#Elbow method for K-means clustering\n",
    "\n",
    "from sklearn.cluster import KMeans"
   ]
  },
  {
   "cell_type": "code",
   "execution_count": null,
   "id": "26836ac8",
   "metadata": {},
   "outputs": [],
   "source": [
    "sns.set_theme(style='darkgrid')\n",
    "\n",
    "def optimal_k_means(data, max_k, random_state=1):\n",
    "    means = []\n",
    "    wcss = []\n",
    "    \n",
    "    for k in range(1, max_k):\n",
    "        kmeans = KMeans(n_clusters=k)\n",
    "        kmeans.fit(dropcol1)\n",
    "        means.append(k)\n",
    "        wcss.append(kmeans.inertia_)\n",
    "        \n",
    "    #generating elbow plot\n",
    "    fig = plt.subplots (figsize=(12,6))\n",
    "    plt.plot(means, wcss, 'o-')\n",
    "    plt.xlabel('Number of clusters', fontsize = 11)\n",
    "    plt.ylabel('Within Cluster Sum of Squares (WCSS)', fontsize = 11)\n",
    "    plt.title('Elbow Method', fontsize = 14) \n",
    "    plt.show()"
   ]
  },
  {
   "cell_type": "code",
   "execution_count": null,
   "id": "4a265339",
   "metadata": {},
   "outputs": [],
   "source": [
    "optimal_k_means(dropcol1, 10)"
   ]
  },
  {
   "cell_type": "code",
   "execution_count": null,
   "id": "2523fb39",
   "metadata": {},
   "outputs": [],
   "source": [
    "kmeans = KMeans(n_clusters = 3, random_state=1)"
   ]
  },
  {
   "cell_type": "code",
   "execution_count": null,
   "id": "393a6655",
   "metadata": {},
   "outputs": [],
   "source": [
    "#fitting kmeans object to our data\n",
    "\n",
    "clusters = kmeans.fit_predict(dropcol1.iloc[:,1:])"
   ]
  },
  {
   "cell_type": "code",
   "execution_count": null,
   "id": "356a4b8f",
   "metadata": {},
   "outputs": [],
   "source": [
    "#adding \"Cluster\" and binary \"Attrition_Flag\" to standardized dataset\n",
    "\n",
    "dropcol1[\"Cluster\"] = clusters\n",
    "churn_col = bank_churn.iloc[:, 1]\n",
    "dropcol_churn = pd.concat([dropcol1, churn_col], axis=1)\n",
    "dropcol_churn['Attrition_Flag'] = dropcol_churn['Attrition_Flag'].apply(lambda x: 1 if x == 'Attrited Customer' else 0)\n",
    "dropcol_churn"
   ]
  },
  {
   "cell_type": "code",
   "execution_count": null,
   "id": "8f2c3c02",
   "metadata": {},
   "outputs": [],
   "source": [
    "dropcol_churn.columns"
   ]
  },
  {
   "cell_type": "code",
   "execution_count": null,
   "id": "6290c64b",
   "metadata": {},
   "outputs": [],
   "source": [
    "dropcol_churn.groupby(['Cluster', 'Attrition_Flag']).size().unstack(fill_value=0)"
   ]
  },
  {
   "cell_type": "code",
   "execution_count": null,
   "id": "c76b6e0b",
   "metadata": {},
   "outputs": [],
   "source": []
  },
  {
   "cell_type": "markdown",
   "id": "bca69431",
   "metadata": {},
   "source": [
    "### Variables by Cluster - Visualizations"
   ]
  },
  {
   "cell_type": "code",
   "execution_count": null,
   "id": "245a28fd",
   "metadata": {},
   "outputs": [],
   "source": [
    "#Customer_Age by Cluster\n",
    "cluster_bar = dropcol_churn.Cluster\n",
    "Customer_Age = dropcol_churn.Customer_Age\n",
    "sns.barplot(x=cluster_bar, y=Customer_Age, color='#FF9F66')\n",
    "plt.title('Customer age by Cluster')\n",
    "plt.xlabel('Cluster')\n",
    "plt.ylabel('Age')"
   ]
  },
  {
   "cell_type": "code",
   "execution_count": null,
   "id": "80efb464",
   "metadata": {},
   "outputs": [],
   "source": [
    "#Months_on_book by Cluster\n",
    "cluster_bar = dropcol_churn.Cluster\n",
    "Months_on_book = dropcol_churn.Months_on_book\n",
    "sns.barplot(x=cluster_bar, y=Months_on_book, color='#FF9F66')\n",
    "plt.title('Period of relationship with bank by Cluster')\n",
    "plt.xlabel('Cluster')\n",
    "plt.ylabel('Months')"
   ]
  },
  {
   "cell_type": "code",
   "execution_count": null,
   "id": "aa546020",
   "metadata": {},
   "outputs": [],
   "source": [
    "#Total_Relationship_Count by cluster\n",
    "cluster_bar = dropcol_churn.Cluster\n",
    "Total_Relationship_Count = dropcol_churn.Total_Relationship_Count\n",
    "sns.barplot(x=cluster_bar, y=Total_Relationship_Count, color='#FF9F66')\n",
    "plt.title('Number of products held by Cluster')\n",
    "plt.xlabel('Cluster')\n",
    "plt.ylabel('Products')"
   ]
  },
  {
   "cell_type": "code",
   "execution_count": null,
   "id": "5c3a0b09",
   "metadata": {},
   "outputs": [],
   "source": [
    "#Months_Inactive_12_mon by cluster\n",
    "cluster_bar = dropcol_churn.Cluster\n",
    "Months_Inactive_12_mon = dropcol_churn.Months_Inactive_12_mon\n",
    "sns.barplot(x=cluster_bar, y=Months_Inactive_12_mon, color='#FF9F66')\n",
    "plt.title('Months inactive in the last 12 months by Cluster')\n",
    "plt.xlabel('Cluster')\n",
    "plt.ylabel('Months')"
   ]
  },
  {
   "cell_type": "code",
   "execution_count": null,
   "id": "27be1ca8",
   "metadata": {},
   "outputs": [],
   "source": [
    "#Contacts_Count_12_mon by cluster\n",
    "cluster_bar = dropcol_churn.Cluster\n",
    "Contacts_Count_12_mon = dropcol_churn.Contacts_Count_12_mon\n",
    "sns.barplot(x=cluster_bar, y=Contacts_Count_12_mon, color='#FF9F66')\n",
    "plt.title('Contacts in the last 12 months by Cluster')\n",
    "plt.xlabel('Cluster')\n",
    "plt.ylabel('Contacts')"
   ]
  },
  {
   "cell_type": "code",
   "execution_count": null,
   "id": "825722d1",
   "metadata": {},
   "outputs": [],
   "source": [
    "#Credit_Limit by cluster\n",
    "cluster_bar = dropcol_churn.Cluster\n",
    "Credit_Limit = dropcol_churn.Credit_Limit\n",
    "sns.barplot(x=cluster_bar, y=Credit_Limit, color='#FF9F66')\n",
    "plt.title('Credit Limit by Cluster')\n",
    "plt.xlabel('Cluster')\n",
    "plt.ylabel('Limit')"
   ]
  },
  {
   "cell_type": "code",
   "execution_count": null,
   "id": "f501eb80",
   "metadata": {},
   "outputs": [],
   "source": [
    "#Total_Revolving_Bal by cluster\n",
    "cluster_bar = dropcol_churn.Cluster\n",
    "Total_Revolving_Bal = dropcol_churn.Total_Revolving_Bal\n",
    "sns.barplot(x=cluster_bar, y=Total_Revolving_Bal, color='#FF9F66')\n",
    "plt.title('Total Revolving Balance by Cluster')\n",
    "plt.xlabel('Cluster')\n",
    "plt.ylabel('Balance')"
   ]
  },
  {
   "cell_type": "code",
   "execution_count": null,
   "id": "3f714883",
   "metadata": {},
   "outputs": [],
   "source": [
    "#Total_Amt_Chng_Q4_Q1 by cluster\n",
    "cluster_bar = dropcol_churn.Cluster\n",
    "Total_Amt_Chng_Q4_Q1 = dropcol_churn.Total_Amt_Chng_Q4_Q1\n",
    "sns.barplot(x=cluster_bar, y=Total_Amt_Chng_Q4_Q1, color='#FF9F66')\n",
    "plt.title('Change in Transaction Amount Q4 over Q1 by Cluster')\n",
    "plt.xlabel('Cluster')\n",
    "plt.ylabel('Change')"
   ]
  },
  {
   "cell_type": "code",
   "execution_count": null,
   "id": "84baa16a",
   "metadata": {},
   "outputs": [],
   "source": [
    "#Total_Trans_Amt by cluster\n",
    "cluster_bar = dropcol_churn.Cluster\n",
    "Total_Trans_Amt = dropcol_churn.Total_Trans_Amt\n",
    "sns.barplot(x=cluster_bar, y=Total_Trans_Amt, color='#FF9F66')\n",
    "plt.title('Total Transaction Amount in the last 12 months by Cluster')\n",
    "plt.xlabel('Cluster')\n",
    "plt.ylabel('Amount')"
   ]
  },
  {
   "cell_type": "code",
   "execution_count": null,
   "id": "2adb1660",
   "metadata": {},
   "outputs": [],
   "source": [
    "#Total_Trans_Ct by cluster\n",
    "cluster_bar = dropcol_churn.Cluster\n",
    "Total_Trans_Ct = dropcol_churn.Total_Trans_Ct\n",
    "sns.barplot(x=cluster_bar, y=Total_Trans_Ct, color='#FF9F66')\n",
    "plt.title('Total Transaction Count in the last 12 months by Cluster')\n",
    "plt.xlabel('Cluster')\n",
    "plt.ylabel('Count')"
   ]
  },
  {
   "cell_type": "code",
   "execution_count": null,
   "id": "53ef31ca",
   "metadata": {},
   "outputs": [],
   "source": [
    "#Total_Ct_Chng_Q4_Q1 by cluster\n",
    "cluster_bar = dropcol_churn.Cluster\n",
    "Total_Ct_Chng_Q4_Q1 = dropcol_churn.Total_Ct_Chng_Q4_Q1\n",
    "sns.barplot(x=cluster_bar, y=Total_Ct_Chng_Q4_Q1, color='#FF9F66')\n",
    "plt.title('Change in Transaction Count Q4 over Q1 by Cluster')\n",
    "plt.xlabel('Cluster')\n",
    "plt.ylabel('Change')"
   ]
  },
  {
   "cell_type": "code",
   "execution_count": null,
   "id": "739396ff",
   "metadata": {},
   "outputs": [],
   "source": []
  }
 ],
 "metadata": {
  "kernelspec": {
   "display_name": "Python 3 (ipykernel)",
   "language": "python",
   "name": "python3"
  },
  "language_info": {
   "codemirror_mode": {
    "name": "ipython",
    "version": 3
   },
   "file_extension": ".py",
   "mimetype": "text/x-python",
   "name": "python",
   "nbconvert_exporter": "python",
   "pygments_lexer": "ipython3",
   "version": "3.10.9"
  }
 },
 "nbformat": 4,
 "nbformat_minor": 5
}
