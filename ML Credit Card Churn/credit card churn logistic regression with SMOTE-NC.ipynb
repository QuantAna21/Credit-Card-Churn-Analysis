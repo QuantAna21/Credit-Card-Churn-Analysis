{
 "cells": [
  {
   "cell_type": "markdown",
   "id": "10d7be91",
   "metadata": {},
   "source": [
    "# Credit Card Churn - Logistic Regression with SMOTE-NC"
   ]
  },
  {
   "cell_type": "markdown",
   "id": "cc79ef40",
   "metadata": {},
   "source": [
    "### Data Preparation"
   ]
  },
  {
   "cell_type": "code",
   "execution_count": null,
   "id": "9c84c86d",
   "metadata": {},
   "outputs": [],
   "source": [
    "import os\n",
    "import pandas as pd\n",
    "import numpy as np\n",
    "import warnings\n",
    "warnings.filterwarnings(\"ignore\")"
   ]
  },
  {
   "cell_type": "code",
   "execution_count": null,
   "id": "bedb89e8",
   "metadata": {},
   "outputs": [],
   "source": [
    "working_directory = os.getcwd()"
   ]
  },
  {
   "cell_type": "code",
   "execution_count": null,
   "id": "a5543208",
   "metadata": {},
   "outputs": [],
   "source": [
    "path = working_directory + '/data/BankChurners.csv'"
   ]
  },
  {
   "cell_type": "code",
   "execution_count": null,
   "id": "ac41020a",
   "metadata": {},
   "outputs": [],
   "source": [
    "bank_churn = pd.read_csv(path)"
   ]
  },
  {
   "cell_type": "code",
   "execution_count": null,
   "id": "bc963fff",
   "metadata": {},
   "outputs": [],
   "source": [
    "bank_churn.head()"
   ]
  },
  {
   "cell_type": "code",
   "execution_count": null,
   "id": "1ff12399",
   "metadata": {},
   "outputs": [],
   "source": [
    "bank_churn.info()"
   ]
  },
  {
   "cell_type": "code",
   "execution_count": null,
   "id": "5f6a1c17",
   "metadata": {},
   "outputs": [],
   "source": [
    "bank_churn.isnull().sum()"
   ]
  },
  {
   "cell_type": "code",
   "execution_count": null,
   "id": "0ba60e33",
   "metadata": {},
   "outputs": [],
   "source": [
    "bank_churn.describe(include='all')"
   ]
  },
  {
   "cell_type": "code",
   "execution_count": null,
   "id": "2ea67fac",
   "metadata": {},
   "outputs": [],
   "source": [
    "#dropping irrelevant columns\n",
    "bank_churn1 = bank_churn.drop(['CLIENTNUM', 'Gender', 'Marital_Status', 'Naive_Bayes_Classifier_Attrition_Flag_Card_Category_Contacts_Count_12_mon_Dependent_count_Education_Level_Months_Inactive_12_mon_1', 'Naive_Bayes_Classifier_Attrition_Flag_Card_Category_Contacts_Count_12_mon_Dependent_count_Education_Level_Months_Inactive_12_mon_2'], axis = 1)"
   ]
  },
  {
   "cell_type": "code",
   "execution_count": null,
   "id": "75c276a3",
   "metadata": {},
   "outputs": [],
   "source": [
    "#dummy variables creation\n",
    "categorical = bank_churn1[['Attrition_Flag', 'Education_Level', 'Income_Category', 'Card_Category']]\n",
    "dummies = pd.get_dummies(categorical, columns = ['Education_Level', 'Income_Category', 'Card_Category'], drop_first = True)\n",
    "dummies['Attrition_Flag'] = dummies['Attrition_Flag'].apply(lambda x: 1 if x == 'Attrited Customer' else 0)\n",
    "numeric = bank_churn1.drop(columns=['Attrition_Flag', 'Education_Level', 'Income_Category', 'Card_Category'])"
   ]
  },
  {
   "cell_type": "code",
   "execution_count": null,
   "id": "5372abcf",
   "metadata": {},
   "outputs": [],
   "source": [
    "#concatenating dummy and numeric variables\n",
    "churn_concat = pd.concat([dummies, numeric], axis=1)"
   ]
  },
  {
   "cell_type": "code",
   "execution_count": null,
   "id": "b5782472",
   "metadata": {},
   "outputs": [],
   "source": [
    "churn_concat.columns"
   ]
  },
  {
   "cell_type": "code",
   "execution_count": null,
   "id": "f2b4f044",
   "metadata": {},
   "outputs": [],
   "source": [
    "#running correlation matrix\n",
    "import seaborn as sns\n",
    "import matplotlib.pyplot as plt\n",
    "\n",
    "corr = numeric.corr()\n",
    "f, ax = plt.subplots(figsize=(10, 8))\n",
    "sns.heatmap(corr, annot=True, cmap='PRGn', vmax=.3, center=0,\n",
    "            square=True, linewidths=.5, cbar_kws={\"shrink\": .5}, fmt='.2f')\n",
    "\n",
    "plt.show()"
   ]
  },
  {
   "cell_type": "code",
   "execution_count": null,
   "id": "0071715c",
   "metadata": {},
   "outputs": [],
   "source": []
  },
  {
   "cell_type": "markdown",
   "id": "8151f060",
   "metadata": {},
   "source": [
    "### Logistic Regression with SMOTE-NC"
   ]
  },
  {
   "cell_type": "code",
   "execution_count": null,
   "id": "4d87083f",
   "metadata": {},
   "outputs": [],
   "source": [
    "#importing libraries for logistic regression\n",
    "import matplotlib.pyplot as plt\n",
    "%matplotlib inline\n",
    "import seaborn as sns\n",
    "import statsmodels.api as sm\n",
    "import sklearn\n",
    "from sklearn.model_selection import train_test_split\n",
    "from sklearn.linear_model import LogisticRegression\n",
    "from sklearn import preprocessing\n",
    "from sklearn import metrics\n",
    "from sklearn.metrics import confusion_matrix\n",
    "from sklearn.metrics import classification_report\n",
    "from sklearn.metrics import roc_auc_score\n",
    "from sklearn.metrics import roc_curve\n",
    "import warnings\n",
    "warnings.filterwarnings('ignore')"
   ]
  },
  {
   "cell_type": "code",
   "execution_count": null,
   "id": "875e0203",
   "metadata": {},
   "outputs": [],
   "source": [
    "#splitting data\n",
    "x = churn_concat[['Education_Level_Doctorate', 'Education_Level_Graduate', 'Education_Level_High School',\n",
    "    'Education_Level_Post-Graduate', 'Education_Level_Uneducated', 'Education_Level_Unknown',\n",
    "    'Income_Category_$40K - $60K', 'Income_Category_$60K - $80K', 'Income_Category_$80K - $120K',\n",
    "    'Income_Category_Less than $40K', 'Income_Category_Unknown', 'Card_Category_Gold',\n",
    "    'Card_Category_Silver', 'Dependent_count', 'Total_Relationship_Count',\n",
    "    'Months_Inactive_12_mon', 'Contacts_Count_12_mon', 'Credit_Limit',\n",
    "    'Total_Revolving_Bal', 'Total_Trans_Amt', 'Avg_Utilization_Ratio']]\n",
    "\n",
    "#excluded due to high VIF: 'Customer_Age', 'Total_Trans_Ct', 'Months_on_book', 'Total_Amt_Chng_Q4_Q1', \n",
    "#'Total_Ct_Chng_Q4_Q1', 'Avg_Open_To_Buy', 'Card_Category_Platinum'\n",
    "\n",
    "y = churn_concat['Attrition_Flag']"
   ]
  },
  {
   "cell_type": "code",
   "execution_count": null,
   "id": "68f39e7a",
   "metadata": {},
   "outputs": [],
   "source": [
    "#VIF table\n",
    "from statsmodels.stats.outliers_influence import variance_inflation_factor\n",
    "vif_data = pd.DataFrame()\n",
    "vif_data[\"feature\"] = x.columns\n",
    "\n",
    "#calculating VIF for each feature\n",
    "vif_data['VIF'] = [variance_inflation_factor(x.values, i)\n",
    "                  for i in range(len(x.columns))]\n",
    "print(vif_data)"
   ]
  },
  {
   "cell_type": "code",
   "execution_count": null,
   "id": "d21fee9d",
   "metadata": {},
   "outputs": [],
   "source": [
    "#splitting data into training and testing sets:\n",
    "x_train, x_test, y_train, y_test = train_test_split(x, y, test_size = 0.3, random_state=1)"
   ]
  },
  {
   "cell_type": "code",
   "execution_count": null,
   "id": "09b88b90",
   "metadata": {},
   "outputs": [],
   "source": [
    "#utilizing SMOTE-NC to perform oversampling on training data \n",
    "#pip install -U imbalanced-learn\n",
    "from imblearn.over_sampling import SMOTENC"
   ]
  },
  {
   "cell_type": "code",
   "execution_count": null,
   "id": "6be44016",
   "metadata": {},
   "outputs": [],
   "source": [
    "smotenc = SMOTENC([1,2,3,4,5,6,7,8,9,10,11,12,13], random_state = 1)\n",
    "X_oversample, y_oversample = smotenc.fit_resample(x_train, y_train)"
   ]
  },
  {
   "cell_type": "code",
   "execution_count": null,
   "id": "64e1e549",
   "metadata": {},
   "outputs": [],
   "source": [
    "#running the model on training data\n",
    "lmodel = sm.Logit(y_oversample, X_oversample)\n",
    "result = lmodel.fit()\n",
    "print(result.summary())"
   ]
  },
  {
   "cell_type": "code",
   "execution_count": null,
   "id": "564a3f70",
   "metadata": {},
   "outputs": [],
   "source": [
    "#intercept\n",
    "result = LogisticRegression().fit(X_oversample, y_oversample)\n",
    "print(result.intercept_)"
   ]
  },
  {
   "cell_type": "code",
   "execution_count": null,
   "id": "5ee325e5",
   "metadata": {},
   "outputs": [],
   "source": [
    "#odds ratio\n",
    "np.exp(result.coef_)"
   ]
  },
  {
   "cell_type": "code",
   "execution_count": null,
   "id": "443290d3",
   "metadata": {},
   "outputs": [],
   "source": [
    "#computing accuracy on test data\n",
    "logreg = LogisticRegression(random_state=1)\n",
    "logreg.fit(X_oversample, y_oversample)\n",
    "y_pred = logreg.predict(x_test)\n",
    "print('Logistic regression accuracy: {:.2f}'.format(logreg.score(x_test, y_test)))"
   ]
  },
  {
   "cell_type": "code",
   "execution_count": null,
   "id": "5b7d0b90",
   "metadata": {},
   "outputs": [],
   "source": [
    "#confusion matrix\n",
    "confusion_matrix = confusion_matrix(y_test, y_pred)\n",
    "print(confusion_matrix)"
   ]
  },
  {
   "cell_type": "code",
   "execution_count": null,
   "id": "333d835e",
   "metadata": {},
   "outputs": [],
   "source": [
    "#confusion matrix (heat map)\n",
    "royal_blue_palette = sns.light_palette(\"royalblue\", as_cmap=True)\n",
    "sns.heatmap(confusion_matrix, annot = True, fmt='d', xticklabels = ['No', 'Yes'], yticklabels = ['No', 'Yes'], cmap=royal_blue_palette)\n",
    "plt.ylabel(\"True label\", fontsize = 12)\n",
    "plt.xlabel(\"Predicted label\", fontsize = 12)"
   ]
  },
  {
   "cell_type": "code",
   "execution_count": null,
   "id": "e2554568",
   "metadata": {},
   "outputs": [],
   "source": [
    "#classification report\n",
    "print(classification_report(y_test, y_pred))"
   ]
  },
  {
   "cell_type": "code",
   "execution_count": null,
   "id": "83a11e15",
   "metadata": {},
   "outputs": [],
   "source": [
    "#ROC curve\n",
    "logit_roc_auc = roc_auc_score(y_test, logreg.predict(x_test))\n",
    "fpr, tpr, thresholds = roc_curve(y_test, logreg.predict_proba(x_test)[:,1])\n",
    "plt.figure()\n",
    "plt.plot(fpr, tpr, label='Logistic Regression (area = %0.2f)' % logit_roc_auc)\n",
    "plt.plot([0, 1], [0, 1],'r--')\n",
    "plt.xlim([0.0, 1.0])\n",
    "plt.ylim([0.0, 1.05])\n",
    "plt.xlabel('False Positive Rate - (1 - Specificity)')\n",
    "plt.ylabel('True Positive Rate - Sensitivity')\n",
    "plt.title('Receiver operating characteristic, the ROC Curve')\n",
    "plt.legend(loc=\"lower right\")\n",
    "plt.savefig('Log_ROC')\n",
    "plt.show()"
   ]
  },
  {
   "cell_type": "code",
   "execution_count": null,
   "id": "1bdd6be1",
   "metadata": {},
   "outputs": [],
   "source": []
  }
 ],
 "metadata": {
  "kernelspec": {
   "display_name": "Python 3 (ipykernel)",
   "language": "python",
   "name": "python3"
  },
  "language_info": {
   "codemirror_mode": {
    "name": "ipython",
    "version": 3
   },
   "file_extension": ".py",
   "mimetype": "text/x-python",
   "name": "python",
   "nbconvert_exporter": "python",
   "pygments_lexer": "ipython3",
   "version": "3.10.9"
  }
 },
 "nbformat": 4,
 "nbformat_minor": 5
}
